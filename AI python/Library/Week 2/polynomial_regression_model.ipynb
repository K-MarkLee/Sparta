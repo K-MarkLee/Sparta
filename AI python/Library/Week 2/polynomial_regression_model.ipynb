{
 "cells": [
  {
   "cell_type": "code",
   "execution_count": 20,
   "metadata": {},
   "outputs": [],
   "source": [
    "import numpy as np\n",
    "import pandas as pd\n",
    "from sklearn.model_selection import train_test_split\n",
    "from sklearn.preprocessing import PolynomialFeatures\n",
    "from sklearn.linear_model import LinearRegression\n",
    "from sklearn.metrics import root_mean_squared_error, r2_score\n"
   ]
  },
  {
   "cell_type": "code",
   "execution_count": 36,
   "metadata": {},
   "outputs": [
    {
     "data": {
      "text/plain": [
       "array([[1.000e+00, 6.300e+01, 6.400e+01, 3.969e+03, 4.032e+03, 4.096e+03],\n",
       "       [1.000e+00, 4.100e+01, 4.200e+01, 1.681e+03, 1.722e+03, 1.764e+03],\n",
       "       [1.000e+00, 9.600e+01, 9.700e+01, 9.216e+03, 9.312e+03, 9.409e+03],\n",
       "       [1.000e+00, 1.900e+01, 2.000e+01, 3.610e+02, 3.800e+02, 4.000e+02],\n",
       "       [1.000e+00, 9.800e+01, 9.900e+01, 9.604e+03, 9.702e+03, 9.801e+03],\n",
       "       [1.000e+00, 8.500e+01, 8.600e+01, 7.225e+03, 7.310e+03, 7.396e+03],\n",
       "       [1.000e+00, 6.500e+01, 6.600e+01, 4.225e+03, 4.290e+03, 4.356e+03],\n",
       "       [1.000e+00, 4.300e+01, 4.400e+01, 1.849e+03, 1.892e+03, 1.936e+03],\n",
       "       [1.000e+00, 1.100e+01, 1.200e+01, 1.210e+02, 1.320e+02, 1.440e+02],\n",
       "       [1.000e+00, 1.000e+00, 2.000e+00, 1.000e+00, 2.000e+00, 4.000e+00],\n",
       "       [1.000e+00, 3.200e+01, 3.300e+01, 1.024e+03, 1.056e+03, 1.089e+03],\n",
       "       [1.000e+00, 7.700e+01, 7.800e+01, 5.929e+03, 6.006e+03, 6.084e+03],\n",
       "       [1.000e+00, 4.800e+01, 4.900e+01, 2.304e+03, 2.352e+03, 2.401e+03],\n",
       "       [1.000e+00, 2.700e+01, 2.800e+01, 7.290e+02, 7.560e+02, 7.840e+02],\n",
       "       [1.000e+00, 4.500e+01, 4.600e+01, 2.025e+03, 2.070e+03, 2.116e+03],\n",
       "       [1.000e+00, 5.000e+00, 6.000e+00, 2.500e+01, 3.000e+01, 3.600e+01],\n",
       "       [1.000e+00, 2.300e+01, 2.400e+01, 5.290e+02, 5.520e+02, 5.760e+02],\n",
       "       [1.000e+00, 1.300e+01, 1.400e+01, 1.690e+02, 1.820e+02, 1.960e+02],\n",
       "       [1.000e+00, 8.900e+01, 9.000e+01, 7.921e+03, 8.010e+03, 8.100e+03],\n",
       "       [1.000e+00, 7.400e+01, 7.500e+01, 5.476e+03, 5.550e+03, 5.625e+03]])"
      ]
     },
     "execution_count": 36,
     "metadata": {},
     "output_type": "execute_result"
    }
   ],
   "source": [
    "# X = np.array([[1], [2], [3], [4], [5], [6]])\n",
    "# y = np.array([1, 4, 9, 16, 25, 36])\n",
    "\n",
    "\n",
    "\n",
    "study = np.array([[i, i+1] for i in range(1, 100)])\n",
    "goal = np.array([[((i)+(i+1))**2] for i in range(1,100)])\n",
    "\n",
    "\n",
    "\n",
    "poly = PolynomialFeatures(degree=2)\n",
    "study_poly = poly.fit_transform(study)\n",
    "\n",
    "study_train, study_test, goal_train, goal_test = train_test_split(study_poly, goal, test_size=0.2, random_state=42)\n",
    "\n",
    "\n",
    "model = LinearRegression()\n",
    "model.fit(study_train,goal_train)\n",
    "\n",
    "goal_pred = model.predict(study_test)\n",
    "\n",
    "goal_pred\n",
    "study_test"
   ]
  },
  {
   "cell_type": "code",
   "execution_count": 37,
   "metadata": {},
   "outputs": [],
   "source": [
    "mse = root_mean_squared_error(goal_test, goal_pred)"
   ]
  },
  {
   "cell_type": "code",
   "execution_count": 39,
   "metadata": {},
   "outputs": [
    {
     "data": {
      "text/plain": [
       "3.3458536228574637e-12"
      ]
     },
     "execution_count": 39,
     "metadata": {},
     "output_type": "execute_result"
    }
   ],
   "source": [
    "mse"
   ]
  },
  {
   "cell_type": "code",
   "execution_count": 41,
   "metadata": {},
   "outputs": [],
   "source": [
    "r2 = r2_score(goal_test, goal_pred)"
   ]
  },
  {
   "cell_type": "code",
   "execution_count": 48,
   "metadata": {},
   "outputs": [
    {
     "data": {
      "text/plain": [
       "1.0"
      ]
     },
     "execution_count": 48,
     "metadata": {},
     "output_type": "execute_result"
    }
   ],
   "source": [
    "r2"
   ]
  },
  {
   "cell_type": "code",
   "execution_count": 62,
   "metadata": {},
   "outputs": [],
   "source": [
    "new = np.array([[3,4]])\n",
    "poly = PolynomialFeatures(degree=2)\n",
    "new_poly = poly.fit_transform(new)"
   ]
  },
  {
   "cell_type": "code",
   "execution_count": 63,
   "metadata": {},
   "outputs": [],
   "source": [
    "test = model.predict(new_poly)"
   ]
  },
  {
   "cell_type": "code",
   "execution_count": 64,
   "metadata": {},
   "outputs": [
    {
     "data": {
      "text/plain": [
       "array([[49.]])"
      ]
     },
     "execution_count": 64,
     "metadata": {},
     "output_type": "execute_result"
    }
   ],
   "source": [
    "test"
   ]
  }
 ],
 "metadata": {
  "kernelspec": {
   "display_name": "machine_learning",
   "language": "python",
   "name": "python3"
  },
  "language_info": {
   "codemirror_mode": {
    "name": "ipython",
    "version": 3
   },
   "file_extension": ".py",
   "mimetype": "text/x-python",
   "name": "python",
   "nbconvert_exporter": "python",
   "pygments_lexer": "ipython3",
   "version": "3.12.7"
  }
 },
 "nbformat": 4,
 "nbformat_minor": 2
}
